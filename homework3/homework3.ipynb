{
 "cells": [
  {
   "cell_type": "code",
   "execution_count": 23,
   "id": "51c3d2ef",
   "metadata": {},
   "outputs": [
    {
     "name": "stdout",
     "output_type": "stream",
     "text": [
      "Requirement already satisfied: openai in c:\\users\\user\\appdata\\roaming\\python\\python39\\site-packages (0.27.2)\n",
      "Requirement already satisfied: tqdm in d:\\p\\lib\\site-packages (from openai) (4.64.1)\n",
      "Requirement already satisfied: aiohttp in c:\\users\\user\\appdata\\roaming\\python\\python39\\site-packages (from openai) (3.8.4)\n",
      "Requirement already satisfied: requests>=2.20 in d:\\p\\lib\\site-packages (from openai) (2.28.1)\n",
      "Requirement already satisfied: urllib3<1.27,>=1.21.1 in d:\\p\\lib\\site-packages (from requests>=2.20->openai) (1.26.11)\n",
      "Requirement already satisfied: charset-normalizer<3,>=2 in d:\\p\\lib\\site-packages (from requests>=2.20->openai) (2.0.4)\n",
      "Requirement already satisfied: idna<4,>=2.5 in d:\\p\\lib\\site-packages (from requests>=2.20->openai) (3.3)\n",
      "Requirement already satisfied: certifi>=2017.4.17 in d:\\p\\lib\\site-packages (from requests>=2.20->openai) (2022.9.14)\n",
      "Requirement already satisfied: aiosignal>=1.1.2 in c:\\users\\user\\appdata\\roaming\\python\\python39\\site-packages (from aiohttp->openai) (1.3.1)\n",
      "Requirement already satisfied: async-timeout<5.0,>=4.0.0a3 in c:\\users\\user\\appdata\\roaming\\python\\python39\\site-packages (from aiohttp->openai) (4.0.2)\n",
      "Requirement already satisfied: frozenlist>=1.1.1 in c:\\users\\user\\appdata\\roaming\\python\\python39\\site-packages (from aiohttp->openai) (1.3.3)\n",
      "Requirement already satisfied: yarl<2.0,>=1.0 in c:\\users\\user\\appdata\\roaming\\python\\python39\\site-packages (from aiohttp->openai) (1.8.2)\n",
      "Requirement already satisfied: attrs>=17.3.0 in d:\\p\\lib\\site-packages (from aiohttp->openai) (21.4.0)\n",
      "Requirement already satisfied: multidict<7.0,>=4.5 in c:\\users\\user\\appdata\\roaming\\python\\python39\\site-packages (from aiohttp->openai) (6.0.4)\n",
      "Requirement already satisfied: colorama in d:\\p\\lib\\site-packages (from tqdm->openai) (0.4.5)\n"
     ]
    }
   ],
   "source": [
    "!pip3 install openai"
   ]
  },
  {
   "cell_type": "code",
   "execution_count": 291,
   "id": "6dba7ad4",
   "metadata": {},
   "outputs": [],
   "source": [
    "import openai\n",
    "import pandas as pd"
   ]
  },
  {
   "cell_type": "code",
   "execution_count": 292,
   "id": "23bd6f38",
   "metadata": {},
   "outputs": [],
   "source": [
    "with open('01.txt', 'r') as fh1:\n",
    "    tmp1 = fh1.read()\n",
    "    itemlist = tmp1.split(',')"
   ]
  },
  {
   "cell_type": "code",
   "execution_count": 293,
   "id": "d231fe35",
   "metadata": {},
   "outputs": [],
   "source": [
    "with open('02.txt', 'r', encoding='utf-8') as fh2:\n",
    "    tmp2 = fh2.read()\n",
    "    itemlist1 = tmp2.split(',')"
   ]
  },
  {
   "cell_type": "code",
   "execution_count": 294,
   "id": "61cd9501",
   "metadata": {},
   "outputs": [],
   "source": [
    "with open('03.txt', 'r', encoding='utf-8') as fh3:\n",
    "    tmp3 = fh3.read()\n",
    "    itemlist2 = tmp3.split(',')"
   ]
  },
  {
   "cell_type": "code",
   "execution_count": 295,
   "id": "9725e238",
   "metadata": {},
   "outputs": [],
   "source": [
    "itemlist = str(itemlist)\n",
    "itemlist1 = str(itemlist1)\n",
    "itemlist2 = str(itemlist2)"
   ]
  },
  {
   "cell_type": "code",
   "execution_count": 296,
   "id": "cb40c6e8",
   "metadata": {},
   "outputs": [],
   "source": [
    "keyfile = open(\"key.txt\", \"r\")\n",
    "key = keyfile.readline()\n",
    "openai.api_key = key"
   ]
  },
  {
   "cell_type": "code",
   "execution_count": 297,
   "id": "c6ef52be",
   "metadata": {},
   "outputs": [],
   "source": [
    "data = [itemlist[0:3200], itemlist[3201:6400], \n",
    "        itemlist[6401:9600], itemlist[9601:12800], itemlist[12801:16000]]"
   ]
  },
  {
   "cell_type": "code",
   "execution_count": 298,
   "id": "0ce72073",
   "metadata": {},
   "outputs": [
    {
     "data": {
      "text/plain": [
       "\"['\\\\nBlockchain in education management: present and future applications \\\\nPreeti Bhaskar \\\\nUniversity of Technology and Applied Sciences', ' Ibra', ' Oman and ICFAI Business School', ' ICFAI University', ' Dehradun', ' India \\\\n\\\\nChandan Kumar Tiwari \\\\nSymbiosis Centre for Management Studies', ' Noida', ' India and Symbiosis International (Deemed University)', ' Pune', ' India', ' and \\\\n\\\\nAmit Joshi \\\\nICFAI Business School', ' ICFAI University', ' Dehradun', ' India \\\\nAbstract \\\\nPurpose   This paper aims to provide a systematic literature review on blockchain technology in education to offer a detailed understanding of the present scenario in terms of bene.ts', ' barriers', ' present blockchain technology application and future areas where blockchain technology can be implemented in the other .elds of education. \\\\nDesign/methodology/approach   A bibliometric analysis is conducted on for data in the publications', ' journals', ' authors and citations were collected', ' and examined by applying bibliometric measures. The data was collected from SCOPUS database on the topic  Blockchain Technology in Education . The following research questions guided this systematic literature review (SLR: How blockchain technology has been de.ned in educational settings? How were the technology examined (i.e. the methodology)? What were the results of using this technology in an education system? \\\\nFindings   The study identi.es the bene.ts', ' barriers and present application of blockchain technology in education. The analysis shows that blockchain technology in education is still a young discipline', ' but has a lot of potential to bene.ts the educational sector at large. \\\\nPractical implications   This research provides a groundwork for education institutions', ' the policymakers and researchers to explore other areas where blockchain technology can be implemented', ' though this research has also suggested some prospective uses of blockchain technology in different functions of an education system', ' more application can be brought into the education system to exploit the potential of blockchain technology. \\\\nOriginality/value   The paper discusses the application of blockchain technology in education with the help of bibliometric analysis. This is one of the .rst known studies to review the blockchain technology by identifying its bene.ts', ' barriers', ' present blockchain technology application. Based on the analysis', ' future application areas are also identi.ed. \\\\nKeywords Systematic review', ' Education', ' Blockchain technology', ' Blockchain application \\\\nPaper type Literature review \\\\n1. Introduction \\\\nBlockchain was .rst used to a peer-to-peer ledger for record-keeping of the transactions of Bitcoin cryptocurrency. A blockchain transaction in the public ledger contains a veri.able record and once the information entered', ' it cannot be altered or erased in the future. The \\\\nBlockchain in education management \\\\nReceived 4 July 2020 Revised 19 September 2020 Accepted 10 October 2020 \\\\n\\\\nInteractive Technology and Smart Education Vol. 18 No. 1', ' 2021 pp. 1-17   Emerald Publishing Limited 1741-5659 DOI 10.1108/ITSE-07-2020-0102 \\\\n\\\\nBlockchain tech\""
      ]
     },
     "execution_count": 298,
     "metadata": {},
     "output_type": "execute_result"
    }
   ],
   "source": [
    "data[0]"
   ]
  },
  {
   "cell_type": "code",
   "execution_count": 299,
   "id": "f2080b19",
   "metadata": {},
   "outputs": [],
   "source": [
    "data1 = [itemlist1[0:3200], itemlist1[3201:6400], \n",
    "        itemlist1[6401:9600], itemlist1[9601:12800], itemlist1[12801:16000]]"
   ]
  },
  {
   "cell_type": "code",
   "execution_count": 300,
   "id": "a4b02a8e",
   "metadata": {},
   "outputs": [
    {
     "data": {
      "text/plain": [
       "\"['Center for Economic Education to Assist K-12 Teachers\\\\nCNU partners with 17 Hampton Roads school divisions to provide resources\\\\nby Kelli Caplan | March 27', ' 2023\\\\n\\\\nChristopher Newport University’s Center for Economic Education (CEE) is on a mission to help teachers discover creative ways of making economics and personal finance lessons more relevant and interesting to K-12 students.\\\\n\\\\nThe center', ' located in the Department of Economics', ' is a wide-ranging resource for educators dedicated to instilling economic prowess in upcoming generations.\\\\n\\\\nDr. Rik Chakraborti', ' an assistant professor in the Department of Economics', ' is the new director of the center', ' and is intent on working with as many teachers as possible to implement effective methods of presenting students with the fundamentals of economics and personal finance. The more students are engaged in a lesson and understand how economic decisions affect their lives', ' the better', ' Chakraborti said.\\\\n\\\\n“I am beyond thrilled', '” Chakraborti said. “The economist’s tool kit empowers students. Students from my classes will tell you how much they enjoy seeing their analytical superpowers grow – and teaching teachers to bear the torch provides such enormous reach to a transformative skill set.”\\\\n\\\\nThe CNU Center for Economic Education', ' one of nine university-based centers in Virginia', ' has been a fixture at Christopher Newport since the 1980s', ' but since 2009 has been operating at a reduced capacity due to changes in funding to the Virginia Council on Economic Education (VCEE)', ' which provides a grant to help run the center.\\\\n\\\\nHowever', ' last summer the funding from VCEE was restored', ' and the CEE at Christopher Newport found new life', ' once again becoming a full-fledged resource for educators in 17 school systems across Hampton Roads.\\\\n\\\\nThe center serves as a repository for educators', ' providing lesson plans', ' workshops', ' classroom materials', ' and one-on-one training. This summer', ' the CEE will offer teachers an online economics institute.\\\\n\\\\nThe end goal', ' Chakraborti said', ' is to ensure elementary', ' middle', ' and high school students are as well versed as possible on the importance of making sound economic decisions as they move along life’s pathway. Supplementing the tools teachers have to convey effective', ' interesting and applicable lessons is key', ' he said.\\\\n\\\\nLesson plans offered by the Christopher Newport’s CEE cover a variety of applicable subjects that are rooted in economic relevance', ' including:\\\\n\\\\nPredicting Presidential Outcomes Based on Economic Indicators\\\\nLife After High School: Navigating Education', ' Career and Debt\\\\nInvesting in Alternative Energy\\\\n“The CNU Center for Economic Education seeks to provide every student graduate with the economic and financial skills needed to thrive in our dynamic economy', '” Chakraborti said. “They need to understand economics to get better at life. It will teach them how to make better decisions', ' and understand decisions others make around them. It will teach them to appreciate the role of moral', ' financial', ' and social incentives in all social phenomena they observe arou\""
      ]
     },
     "execution_count": 300,
     "metadata": {},
     "output_type": "execute_result"
    }
   ],
   "source": [
    "data1[0]"
   ]
  },
  {
   "cell_type": "code",
   "execution_count": 301,
   "id": "4636b8a1",
   "metadata": {},
   "outputs": [],
   "source": [
    "data2 = [itemlist2[0:3200], itemlist2[3201:6400], \n",
    "        itemlist2[6401:9600], itemlist2[9601:12800], itemlist2[12801:16000]]"
   ]
  },
  {
   "cell_type": "code",
   "execution_count": 302,
   "id": "c826f3ff",
   "metadata": {},
   "outputs": [
    {
     "data": {
      "text/plain": [
       "'[\\'Annual education report finds technology to be critical for supporting educators in an evolving school environment\\\\n(PRNewsfoto/Promethean)\\\\nNEWS PROVIDED BY\\\\n\\\\nPromethean \\\\nMar 28\\', \\' 2023\\', \\' 08:00 ET\\\\n\\\\nWhile challenges like teacher burnout and student social-emotional needs abound\\', \\' schools are looking to high-tech tools to ease the burden\\\\n\\\\nSEATTLE\\', \\' March 28\\', \\' 2023 /PRNewswire/ -- Promethean\\', \\' a leading global education technology company\\', \\' today released its annual State of Technology in Education report\\', \\' a survey of 1\\', \\'700 U.S. educators offering a snapshot of current trends\\', \" as well as a glimpse at what the future holds. This year\\'s report\", \\' which includes student insights for the first time\\', \\' highlights a host of new challenges for K-12 schools\\', \\' but found that respondents believe technology holds the key to solving even the most entrenched problems.\\\\n\\\\nAccording to survey findings\\', \" educators put social-emotional learning (SEL) as one of their school\\'s top priorities\", \\' likely due to students still dealing with the fallout from pandemic disruptions. Two-thirds of respondents said their school is implementing SEL measures to tackle these issues\\', \\' and 70% said technology is a good tool for providing the experiential learning and connections that students need to thrive.\\\\n\\\\nThe report also sheds light on the growing problem of staff shortages\\', \\' which have plagued many schools as teachers quit\\', \\' retire\\', \" or decide to change careers. More than half of educators said they\\'ve had to take on a heavier workload because of inadequate staffing levels. But despite the hardships\", \" two-thirds say their school\\'s leadership is providing effective support\", \" and 99% see technology as an essential tool that can help make their jobs easier.\\\\n\\\\nThe addition of students in this year\\'s survey added another layer to the report\", \" offering insights into how effective teachers and schools have been at handling students\\' academic and social needs. Educators will be pleased to learn that 78% of students say their teachers make them happy\", \\' and 84% say their teachers work hard. Students overwhelmingly believe technology makes their lessons more interesting and enjoyable (96%)\\', \\' and the vast majority of students also feel that it helps them understand their lessons better\\', \\' focus on their work\\', \\' and connect with their peers.\\\\n\\\\n\"This year\\\\\\'s report shines a light on some of the biggest challenges facing teachers\\', \\' IT administrators\\', \\' and school leaders as they try to help students recover from the learning loss and social-emotional stresses of the past couple years\\', \\'\" said Jennifer Foreman\\', \\' chief marketing officer at Promethean. \"While there are still challenges to overcome\\', \" there\\'s so much hope for the future of education and dedication from administrators and teachers to get their schools back on track. As a leader in edtech\", \\' Promethean is working alongside these educators to build the tools they need to succeed.\"\\\\n\\\\nTo read the full State of Technology in Education Report 2022/23\\', \\' visit https://www.prometheanworld.com/stateoftech.\\\\n\\\\nAbout Promethean\\\\nPromethean is a leading education techn'"
      ]
     },
     "execution_count": 302,
     "metadata": {},
     "output_type": "execute_result"
    }
   ],
   "source": [
    "data2[0]"
   ]
  },
  {
   "cell_type": "code",
   "execution_count": 303,
   "id": "6d8e5324",
   "metadata": {},
   "outputs": [],
   "source": [
    "def chatgptfn(sub_list):\n",
    "    result = ''\n",
    "    response = openai.ChatCompletion.create(\n",
    "        model=\"gpt-3.5-turbo\",\n",
    "        messages=[\n",
    "            {\"role\": \"system\", \"content\": \"You are an assistant\"},\n",
    "            {\"role\": \"user\", \"content\": f\"{sub_list} :give me a summary\"}\n",
    "        ]\n",
    "    )\n",
    "    for choice in response.choices:\n",
    "        result += choice.message.content\n",
    "    return result"
   ]
  },
  {
   "cell_type": "code",
   "execution_count": 304,
   "id": "4ca6bd2b",
   "metadata": {},
   "outputs": [],
   "source": [
    "data[0] = chatgptfn(data[0])"
   ]
  },
  {
   "cell_type": "code",
   "execution_count": 305,
   "id": "1d997e6e",
   "metadata": {},
   "outputs": [
    {
     "data": {
      "text/plain": [
       "'This paper provides a systematic literature review on the application of blockchain technology in education, including its benefits, barriers, current applications, and potential future uses in different areas of education. The review was conducted using bibliometric analysis, and the study finds that blockchain technology in education is still a young discipline but has a lot of potential to benefit the educational sector. This research provides a groundwork for education institutions, policymakers, and researchers to explore other areas where blockchain technology can be implemented. The paper is an original work and provides a valuable insight into the application of blockchain technology in education.'"
      ]
     },
     "execution_count": 305,
     "metadata": {},
     "output_type": "execute_result"
    }
   ],
   "source": [
    "data[0]"
   ]
  },
  {
   "cell_type": "code",
   "execution_count": 306,
   "id": "442970ea",
   "metadata": {},
   "outputs": [],
   "source": [
    "data[1] = chatgptfn(data[1])"
   ]
  },
  {
   "cell_type": "code",
   "execution_count": 307,
   "id": "21e4afe6",
   "metadata": {},
   "outputs": [],
   "source": [
    "data[2] = chatgptfn(data[2])\n",
    "data[3] = chatgptfn(data[3])"
   ]
  },
  {
   "cell_type": "code",
   "execution_count": 308,
   "id": "202a3012",
   "metadata": {},
   "outputs": [],
   "source": [
    "data1[0] = chatgptfn(data1[0])"
   ]
  },
  {
   "cell_type": "code",
   "execution_count": 309,
   "id": "87b7953e",
   "metadata": {},
   "outputs": [
    {
     "data": {
      "text/plain": [
       "\"Christopher Newport University's Center for Economic Education (CEE) is dedicated to helping K-12 teachers in 17 Hampton Roads school systems by providing lesson plans, workshops, classroom materials, and one-on-one training. Led by Dr. Rik Chakraborti, an assistant professor in the Department of Economics, the CEE's goal is to empower students with economic prowess and teach them how to make sound economic decisions. Lesson plans cover a variety of subjects, including predicting presidential outcomes based on economic indicators, navigating education, career and debt after high school, and investing in alternative energy. The center aims to ensure every student graduate is equipped with economic and financial skills to thrive in a dynamic economy.\""
      ]
     },
     "execution_count": 309,
     "metadata": {},
     "output_type": "execute_result"
    }
   ],
   "source": [
    "data1[0]"
   ]
  },
  {
   "cell_type": "code",
   "execution_count": 310,
   "id": "4cfa1285",
   "metadata": {},
   "outputs": [],
   "source": [
    "data1[1] = chatgptfn(data1[1])\n",
    "data1[2] = chatgptfn(data1[2])\n",
    "data1[3] = chatgptfn(data1[3])"
   ]
  },
  {
   "cell_type": "code",
   "execution_count": 311,
   "id": "8de7df73",
   "metadata": {},
   "outputs": [],
   "source": [
    "data2[0] = chatgptfn(data2[0])"
   ]
  },
  {
   "cell_type": "code",
   "execution_count": 312,
   "id": "2a4950da",
   "metadata": {},
   "outputs": [
    {
     "data": {
      "text/plain": [
       "\"Promethean, a global education technology company, released its annual State of Technology in Education report, a survey of 1,700 U.S. educators offering a snapshot of current trends. This year's report highlights a host of new challenges for K-12 schools due to the pandemic, including social-emotional learning (SEL) as a top priority, staff shortages, and teacher burnout. However, respondents believe technology holds the key to solving even the most entrenched problems. Two-thirds of respondents said their school is implementing SEL measures to tackle these issues, and 70% said technology is a good tool for providing experiential learning and connections that students need to thrive. The report also added student insights for the first time, offering insights into how effective teachers and schools have been at handling students' academic and social needs.\""
      ]
     },
     "execution_count": 312,
     "metadata": {},
     "output_type": "execute_result"
    }
   ],
   "source": [
    "data2[0]"
   ]
  },
  {
   "cell_type": "code",
   "execution_count": 313,
   "id": "1a3ea992",
   "metadata": {},
   "outputs": [],
   "source": [
    "data2[1] = chatgptfn(data2[1])\n",
    "data2[2] = chatgptfn(data2[2])\n",
    "data2[3] = chatgptfn(data2[3])"
   ]
  },
  {
   "cell_type": "code",
   "execution_count": 314,
   "id": "9320c91b",
   "metadata": {},
   "outputs": [],
   "source": [
    "for i in range(0,5):\n",
    "    data[i] = chatgptfn(data[i])"
   ]
  },
  {
   "cell_type": "code",
   "execution_count": 315,
   "id": "ec527552",
   "metadata": {},
   "outputs": [],
   "source": [
    "for i in range(0,5):\n",
    "    data1[i] = chatgptfn(data1[i])"
   ]
  },
  {
   "cell_type": "code",
   "execution_count": 316,
   "id": "446f2f17",
   "metadata": {},
   "outputs": [],
   "source": [
    "for i in range(0,5):\n",
    "    data2[i] = chatgptfn(data2[i])"
   ]
  },
  {
   "cell_type": "code",
   "execution_count": 317,
   "id": "48c5323b",
   "metadata": {},
   "outputs": [],
   "source": [
    "data1 = ''\n",
    "for i in range(0,5):\n",
    "    data1 = data1 + data[i]"
   ]
  },
  {
   "cell_type": "code",
   "execution_count": 318,
   "id": "4f41bd78",
   "metadata": {},
   "outputs": [
    {
     "data": {
      "text/plain": [
       "'This paper is a review of current research on the use of blockchain technology in education. It covers the benefits and barriers of using blockchain in education and discusses current applications as well as potential future uses. The study concludes that although the field is still new, blockchain technology has the potential to benefit the educational sector in various ways. This research provides a groundwork for policymakers, researchers, and educational institutions to explore new avenues for implementing blockchain technology in education. Overall, the paper offers valuable insights into this emerging area of research.Blockchain technology offers benefits such as eliminating intermediaries, security, transparency, and immutability. It has been used in various sectors, and the latest generation focuses on decentralization. The EduCTX platform is an example of how blockchain technology can be used in the education sector for credit transfer and grading. Despite this potential, the application of blockchain technology in education is still in its early stages.This paper is a systematic literature review of the use of blockchain technology in education. The authors followed the PRISMA methodology and identified the benefits, challenges, current applications, and potential future areas for blockchain technology in education. The study shows that blockchain technology has potential benefits in student activities management, teaching, and learning. It also provides policymakers, academics, and researchers with insights into the potential advantages of using blockchain technology in education.This passage describes a systematic literature review of blockchain technology in education. The review found that although blockchain technology is a new topic, it has gained attention in education research. However, its application is currently immature and lacking in public knowledge, making it difficult to have a clear strategic vision of its future. The review identified 36 articles meeting the inclusion criteria and provides a list of relevant peer-reviewed journals.The article examines the potential of blockchain technology in education and identifies key areas of concern, such as scalability, security, and user adoption. The paper presents a systematic review of existing literature on the subject, highlighting the multidisciplinary nature of the research and the need for further exploration in various areas, including school education, online education, and social sciences. While most studies are qualitative or review-based, there is a need for more quantitative research on the overall impact of the technology in education. The article provides a country and year-wise breakdown of publications on the topic and identifies the USA as the country with the most contributions.'"
      ]
     },
     "execution_count": 318,
     "metadata": {},
     "output_type": "execute_result"
    }
   ],
   "source": [
    "data1"
   ]
  },
  {
   "cell_type": "code",
   "execution_count": 319,
   "id": "fe0eb508",
   "metadata": {},
   "outputs": [],
   "source": [
    "data2 = ''\n",
    "for i in range(0,5):\n",
    "    data2 = data2 + data[i]"
   ]
  },
  {
   "cell_type": "code",
   "execution_count": 320,
   "id": "220bde55",
   "metadata": {},
   "outputs": [
    {
     "data": {
      "text/plain": [
       "'This paper is a review of current research on the use of blockchain technology in education. It covers the benefits and barriers of using blockchain in education and discusses current applications as well as potential future uses. The study concludes that although the field is still new, blockchain technology has the potential to benefit the educational sector in various ways. This research provides a groundwork for policymakers, researchers, and educational institutions to explore new avenues for implementing blockchain technology in education. Overall, the paper offers valuable insights into this emerging area of research.Blockchain technology offers benefits such as eliminating intermediaries, security, transparency, and immutability. It has been used in various sectors, and the latest generation focuses on decentralization. The EduCTX platform is an example of how blockchain technology can be used in the education sector for credit transfer and grading. Despite this potential, the application of blockchain technology in education is still in its early stages.This paper is a systematic literature review of the use of blockchain technology in education. The authors followed the PRISMA methodology and identified the benefits, challenges, current applications, and potential future areas for blockchain technology in education. The study shows that blockchain technology has potential benefits in student activities management, teaching, and learning. It also provides policymakers, academics, and researchers with insights into the potential advantages of using blockchain technology in education.This passage describes a systematic literature review of blockchain technology in education. The review found that although blockchain technology is a new topic, it has gained attention in education research. However, its application is currently immature and lacking in public knowledge, making it difficult to have a clear strategic vision of its future. The review identified 36 articles meeting the inclusion criteria and provides a list of relevant peer-reviewed journals.The article examines the potential of blockchain technology in education and identifies key areas of concern, such as scalability, security, and user adoption. The paper presents a systematic review of existing literature on the subject, highlighting the multidisciplinary nature of the research and the need for further exploration in various areas, including school education, online education, and social sciences. While most studies are qualitative or review-based, there is a need for more quantitative research on the overall impact of the technology in education. The article provides a country and year-wise breakdown of publications on the topic and identifies the USA as the country with the most contributions.'"
      ]
     },
     "execution_count": 320,
     "metadata": {},
     "output_type": "execute_result"
    }
   ],
   "source": [
    "data2"
   ]
  },
  {
   "cell_type": "code",
   "execution_count": 321,
   "id": "c0b2db3b",
   "metadata": {},
   "outputs": [],
   "source": [
    "papers = [data, data1, data2]"
   ]
  },
  {
   "cell_type": "code",
   "execution_count": 322,
   "id": "101c13ac",
   "metadata": {},
   "outputs": [],
   "source": [
    "import gensim\n",
    "from gensim import corpora\n",
    "from pprint import pprint"
   ]
  },
  {
   "cell_type": "code",
   "execution_count": 323,
   "id": "f102e9d6",
   "metadata": {},
   "outputs": [
    {
     "ename": "AttributeError",
     "evalue": "'list' object has no attribute 'lower'",
     "output_type": "error",
     "traceback": [
      "\u001b[1;31m---------------------------------------------------------------------------\u001b[0m",
      "\u001b[1;31mAttributeError\u001b[0m                            Traceback (most recent call last)",
      "\u001b[1;32m~\\AppData\\Local\\Temp\\ipykernel_27216\\4106853106.py\u001b[0m in \u001b[0;36m<module>\u001b[1;34m\u001b[0m\n\u001b[0;32m      1\u001b[0m \u001b[1;31m# 創建詞袋\u001b[0m\u001b[1;33m\u001b[0m\u001b[1;33m\u001b[0m\u001b[0m\n\u001b[1;32m----> 2\u001b[1;33m \u001b[0mtexts\u001b[0m \u001b[1;33m=\u001b[0m \u001b[1;33m[\u001b[0m\u001b[1;33m[\u001b[0m\u001b[0mword\u001b[0m \u001b[1;32mfor\u001b[0m \u001b[0mword\u001b[0m \u001b[1;32min\u001b[0m \u001b[0mdocument\u001b[0m\u001b[1;33m.\u001b[0m\u001b[0mlower\u001b[0m\u001b[1;33m(\u001b[0m\u001b[1;33m)\u001b[0m\u001b[1;33m.\u001b[0m\u001b[0msplit\u001b[0m\u001b[1;33m(\u001b[0m\u001b[1;33m)\u001b[0m\u001b[1;33m]\u001b[0m \u001b[1;32mfor\u001b[0m \u001b[0mdocument\u001b[0m \u001b[1;32min\u001b[0m \u001b[0mpapers\u001b[0m\u001b[1;33m]\u001b[0m\u001b[1;33m\u001b[0m\u001b[1;33m\u001b[0m\u001b[0m\n\u001b[0m\u001b[0;32m      3\u001b[0m \u001b[0mdictionary\u001b[0m \u001b[1;33m=\u001b[0m \u001b[0mcorpora\u001b[0m\u001b[1;33m.\u001b[0m\u001b[0mDictionary\u001b[0m\u001b[1;33m(\u001b[0m\u001b[0mtexts\u001b[0m\u001b[1;33m)\u001b[0m\u001b[1;33m\u001b[0m\u001b[1;33m\u001b[0m\u001b[0m\n\u001b[0;32m      4\u001b[0m \u001b[0mcorpus\u001b[0m \u001b[1;33m=\u001b[0m \u001b[1;33m[\u001b[0m\u001b[0mdictionary\u001b[0m\u001b[1;33m.\u001b[0m\u001b[0mdoc2bow\u001b[0m\u001b[1;33m(\u001b[0m\u001b[0mtext\u001b[0m\u001b[1;33m)\u001b[0m \u001b[1;32mfor\u001b[0m \u001b[0mtext\u001b[0m \u001b[1;32min\u001b[0m \u001b[0mtexts\u001b[0m\u001b[1;33m]\u001b[0m\u001b[1;33m\u001b[0m\u001b[1;33m\u001b[0m\u001b[0m\n",
      "\u001b[1;32m~\\AppData\\Local\\Temp\\ipykernel_27216\\4106853106.py\u001b[0m in \u001b[0;36m<listcomp>\u001b[1;34m(.0)\u001b[0m\n\u001b[0;32m      1\u001b[0m \u001b[1;31m# 創建詞袋\u001b[0m\u001b[1;33m\u001b[0m\u001b[1;33m\u001b[0m\u001b[0m\n\u001b[1;32m----> 2\u001b[1;33m \u001b[0mtexts\u001b[0m \u001b[1;33m=\u001b[0m \u001b[1;33m[\u001b[0m\u001b[1;33m[\u001b[0m\u001b[0mword\u001b[0m \u001b[1;32mfor\u001b[0m \u001b[0mword\u001b[0m \u001b[1;32min\u001b[0m \u001b[0mdocument\u001b[0m\u001b[1;33m.\u001b[0m\u001b[0mlower\u001b[0m\u001b[1;33m(\u001b[0m\u001b[1;33m)\u001b[0m\u001b[1;33m.\u001b[0m\u001b[0msplit\u001b[0m\u001b[1;33m(\u001b[0m\u001b[1;33m)\u001b[0m\u001b[1;33m]\u001b[0m \u001b[1;32mfor\u001b[0m \u001b[0mdocument\u001b[0m \u001b[1;32min\u001b[0m \u001b[0mpapers\u001b[0m\u001b[1;33m]\u001b[0m\u001b[1;33m\u001b[0m\u001b[1;33m\u001b[0m\u001b[0m\n\u001b[0m\u001b[0;32m      3\u001b[0m \u001b[0mdictionary\u001b[0m \u001b[1;33m=\u001b[0m \u001b[0mcorpora\u001b[0m\u001b[1;33m.\u001b[0m\u001b[0mDictionary\u001b[0m\u001b[1;33m(\u001b[0m\u001b[0mtexts\u001b[0m\u001b[1;33m)\u001b[0m\u001b[1;33m\u001b[0m\u001b[1;33m\u001b[0m\u001b[0m\n\u001b[0;32m      4\u001b[0m \u001b[0mcorpus\u001b[0m \u001b[1;33m=\u001b[0m \u001b[1;33m[\u001b[0m\u001b[0mdictionary\u001b[0m\u001b[1;33m.\u001b[0m\u001b[0mdoc2bow\u001b[0m\u001b[1;33m(\u001b[0m\u001b[0mtext\u001b[0m\u001b[1;33m)\u001b[0m \u001b[1;32mfor\u001b[0m \u001b[0mtext\u001b[0m \u001b[1;32min\u001b[0m \u001b[0mtexts\u001b[0m\u001b[1;33m]\u001b[0m\u001b[1;33m\u001b[0m\u001b[1;33m\u001b[0m\u001b[0m\n",
      "\u001b[1;31mAttributeError\u001b[0m: 'list' object has no attribute 'lower'"
     ]
    }
   ],
   "source": [
    "# 創建詞袋\n",
    "texts = [[word for word in document.lower().split()] for document in papers]\n",
    "dictionary = corpora.Dictionary(texts)\n",
    "corpus = [dictionary.doc2bow(text) for text in texts]\n"
   ]
  },
  {
   "cell_type": "code",
   "execution_count": null,
   "id": "858cb8b3",
   "metadata": {},
   "outputs": [],
   "source": [
    "# 訓練 LDA 模型\n",
    "lda_model = gensim.models.ldamodel.LdaModel(corpus=corpus, id2word=dictionary, \n",
    "                                            num_topics=3, random_state=100, update_every=1, \n",
    "                                            chunksize=100, passes=10, alpha='auto', per_word_topics=True)"
   ]
  },
  {
   "cell_type": "code",
   "execution_count": null,
   "id": "33df36e6",
   "metadata": {},
   "outputs": [],
   "source": [
    "!pip install pyLDAvis"
   ]
  },
  {
   "cell_type": "code",
   "execution_count": null,
   "id": "e077748b",
   "metadata": {},
   "outputs": [],
   "source": [
    "# 輸出主題模型分析結果\n",
    "import pyLDAvis.gensim\n",
    "pyLDAvis.enable_notebook()\n",
    "vis = pyLDAvis.gensim.prepare(lda_model, corpus, dictionary)\n",
    "pyLDAvis.display(vis)"
   ]
  },
  {
   "cell_type": "code",
   "execution_count": null,
   "id": "421c4d14",
   "metadata": {},
   "outputs": [],
   "source": []
  }
 ],
 "metadata": {
  "kernelspec": {
   "display_name": "Python 3 (ipykernel)",
   "language": "python",
   "name": "python3"
  },
  "language_info": {
   "codemirror_mode": {
    "name": "ipython",
    "version": 3
   },
   "file_extension": ".py",
   "mimetype": "text/x-python",
   "name": "python",
   "nbconvert_exporter": "python",
   "pygments_lexer": "ipython3",
   "version": "3.9.13"
  }
 },
 "nbformat": 4,
 "nbformat_minor": 5
}
