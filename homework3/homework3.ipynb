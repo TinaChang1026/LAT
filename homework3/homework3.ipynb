{
 "cells": [
  {
   "cell_type": "code",
   "execution_count": 16,
   "id": "51c3d2ef",
   "metadata": {},
   "outputs": [
    {
     "name": "stdout",
     "output_type": "stream",
     "text": [
      "Requirement already satisfied: openai in c:\\users\\user\\appdata\\roaming\\python\\python39\\site-packages (0.27.2)\n",
      "Requirement already satisfied: tqdm in d:\\p\\lib\\site-packages (from openai) (4.64.1)\n",
      "Requirement already satisfied: requests>=2.20 in d:\\p\\lib\\site-packages (from openai) (2.28.1)\n",
      "Requirement already satisfied: aiohttp in c:\\users\\user\\appdata\\roaming\\python\\python39\\site-packages (from openai) (3.8.4)\n",
      "Requirement already satisfied: idna<4,>=2.5 in d:\\p\\lib\\site-packages (from requests>=2.20->openai) (3.3)\n",
      "Requirement already satisfied: urllib3<1.27,>=1.21.1 in d:\\p\\lib\\site-packages (from requests>=2.20->openai) (1.26.11)\n",
      "Requirement already satisfied: charset-normalizer<3,>=2 in d:\\p\\lib\\site-packages (from requests>=2.20->openai) (2.0.4)\n",
      "Requirement already satisfied: certifi>=2017.4.17 in d:\\p\\lib\\site-packages (from requests>=2.20->openai) (2022.9.14)\n",
      "Requirement already satisfied: async-timeout<5.0,>=4.0.0a3 in c:\\users\\user\\appdata\\roaming\\python\\python39\\site-packages (from aiohttp->openai) (4.0.2)\n",
      "Requirement already satisfied: frozenlist>=1.1.1 in c:\\users\\user\\appdata\\roaming\\python\\python39\\site-packages (from aiohttp->openai) (1.3.3)\n",
      "Requirement already satisfied: aiosignal>=1.1.2 in c:\\users\\user\\appdata\\roaming\\python\\python39\\site-packages (from aiohttp->openai) (1.3.1)\n",
      "Requirement already satisfied: yarl<2.0,>=1.0 in c:\\users\\user\\appdata\\roaming\\python\\python39\\site-packages (from aiohttp->openai) (1.8.2)\n",
      "Requirement already satisfied: multidict<7.0,>=4.5 in c:\\users\\user\\appdata\\roaming\\python\\python39\\site-packages (from aiohttp->openai) (6.0.4)\n",
      "Requirement already satisfied: attrs>=17.3.0 in d:\\p\\lib\\site-packages (from aiohttp->openai) (21.4.0)\n",
      "Requirement already satisfied: colorama in d:\\p\\lib\\site-packages (from tqdm->openai) (0.4.5)\n"
     ]
    }
   ],
   "source": [
    "!pip3 install openai"
   ]
  },
  {
   "cell_type": "code",
   "execution_count": 17,
   "id": "6dba7ad4",
   "metadata": {},
   "outputs": [],
   "source": [
    "import openai\n",
    "import pandas as pd"
   ]
  },
  {
   "cell_type": "code",
   "execution_count": 18,
   "id": "23bd6f38",
   "metadata": {},
   "outputs": [],
   "source": [
    "with open('01.txt', 'r') as fh1:\n",
    "    tmp1 = fh1.read()\n",
    "    itemlist1 = tmp1.split(',')"
   ]
  },
  {
   "cell_type": "code",
   "execution_count": 19,
   "id": "c05fb6a3",
   "metadata": {},
   "outputs": [],
   "source": [
    "with open('02.txt', 'r', encoding='utf-8') as fh2:\n",
    "    tmp2 = fh2.read()\n",
    "    itemlist2 = tmp2.split(',')"
   ]
  },
  {
   "cell_type": "code",
   "execution_count": 20,
   "id": "e68718c6",
   "metadata": {},
   "outputs": [],
   "source": [
    "with open('03.txt', 'r', encoding='utf-8') as fh3:\n",
    "    tmp3 = fh3.read()\n",
    "    itemlist3 = tmp3.split(',')"
   ]
  },
  {
   "cell_type": "code",
   "execution_count": 21,
   "id": "d9230e4d",
   "metadata": {},
   "outputs": [],
   "source": [
    "itemlist1 = str(itemlist1)\n",
    "itemlist2 = str(itemlist2)\n",
    "itemlist3 = str(itemlist3)"
   ]
  },
  {
   "cell_type": "code",
   "execution_count": 22,
   "id": "5c0159ec",
   "metadata": {},
   "outputs": [],
   "source": [
    "keyfile = open(\"key.txt\", \"r\")\n",
    "key = keyfile.readline()\n",
    "openai.api_key = key"
   ]
  },
  {
   "cell_type": "code",
   "execution_count": 23,
   "id": "3fa4f8c9",
   "metadata": {},
   "outputs": [],
   "source": [
    "data1 = [itemlist1[0:3200], itemlist1[3201:6400], \n",
    "        itemlist1[6401:9600], itemlist1[9601:12800], itemlist1[12801:16000]]\n",
    "data2 = [itemlist2[0:3200], itemlist2[3201:6400], \n",
    "        itemlist2[6401:9600], itemlist2[9601:12800], itemlist2[12801:16000]]\n",
    "data3 = [itemlist3[0:3200], itemlist3[3201:6400], \n",
    "        itemlist3[6401:9600], itemlist3[9601:12800], itemlist3[12801:16000]]"
   ]
  },
  {
   "cell_type": "code",
   "execution_count": 24,
   "id": "e95089ba",
   "metadata": {},
   "outputs": [
    {
     "data": {
      "text/plain": [
       "\"['\\\\nBlockchain in education management: present and future applications \\\\nPreeti Bhaskar \\\\nUniversity of Technology and Applied Sciences', ' Ibra', ' Oman and ICFAI Business School', ' ICFAI University', ' Dehradun', ' India \\\\n\\\\nChandan Kumar Tiwari \\\\nSymbiosis Centre for Management Studies', ' Noida', ' India and Symbiosis International (Deemed University)', ' Pune', ' India', ' and \\\\n\\\\nAmit Joshi \\\\nICFAI Business School', ' ICFAI University', ' Dehradun', ' India \\\\nAbstract \\\\nPurpose   This paper aims to provide a systematic literature review on blockchain technology in education to offer a detailed understanding of the present scenario in terms of bene.ts', ' barriers', ' present blockchain technology application and future areas where blockchain technology can be implemented in the other .elds of education. \\\\nDesign/methodology/approach   A bibliometric analysis is conducted on for data in the publications', ' journals', ' authors and citations were collected', ' and examined by applying bibliometric measures. The data was collected from SCOPUS database on the topic  Blockchain Technology in Education . The following research questions guided this systematic literature review (SLR: How blockchain technology has been de.ned in educational settings? How were the technology examined (i.e. the methodology)? What were the results of using this technology in an education system? \\\\nFindings   The study identi.es the bene.ts', ' barriers and present application of blockchain technology in education. The analysis shows that blockchain technology in education is still a young discipline', ' but has a lot of potential to bene.ts the educational sector at large. \\\\nPractical implications   This research provides a groundwork for education institutions', ' the policymakers and researchers to explore other areas where blockchain technology can be implemented', ' though this research has also suggested some prospective uses of blockchain technology in different functions of an education system', ' more application can be brought into the education system to exploit the potential of blockchain technology. \\\\nOriginality/value   The paper discusses the application of blockchain technology in education with the help of bibliometric analysis. This is one of the .rst known studies to review the blockchain technology by identifying its bene.ts', ' barriers', ' present blockchain technology application. Based on the analysis', ' future application areas are also identi.ed. \\\\nKeywords Systematic review', ' Education', ' Blockchain technology', ' Blockchain application \\\\nPaper type Literature review \\\\n1. Introduction \\\\nBlockchain was .rst used to a peer-to-peer ledger for record-keeping of the transactions of Bitcoin cryptocurrency. A blockchain transaction in the public ledger contains a veri.able record and once the information entered', ' it cannot be altered or erased in the future. The \\\\nBlockchain in education management \\\\nReceived 4 July 2020 Revised 19 September 2020 Accepted 10 October 2020 \\\\n\\\\nInteractive Technology and Smart Education Vol. 18 No. 1', ' 2021 pp. 1-17   Emerald Publishing Limited 1741-5659 DOI 10.1108/ITSE-07-2020-0102 \\\\n\\\\nBlockchain tech\""
      ]
     },
     "execution_count": 24,
     "metadata": {},
     "output_type": "execute_result"
    }
   ],
   "source": [
    "data1[0]"
   ]
  },
  {
   "cell_type": "code",
   "execution_count": 25,
   "id": "0c474495",
   "metadata": {},
   "outputs": [
    {
     "data": {
      "text/plain": [
       "\"['Center for Economic Education to Assist K-12 Teachers\\\\nCNU partners with 17 Hampton Roads school divisions to provide resources\\\\nby Kelli Caplan | March 27', ' 2023\\\\n\\\\nChristopher Newport University’s Center for Economic Education (CEE) is on a mission to help teachers discover creative ways of making economics and personal finance lessons more relevant and interesting to K-12 students.\\\\n\\\\nThe center', ' located in the Department of Economics', ' is a wide-ranging resource for educators dedicated to instilling economic prowess in upcoming generations.\\\\n\\\\nDr. Rik Chakraborti', ' an assistant professor in the Department of Economics', ' is the new director of the center', ' and is intent on working with as many teachers as possible to implement effective methods of presenting students with the fundamentals of economics and personal finance. The more students are engaged in a lesson and understand how economic decisions affect their lives', ' the better', ' Chakraborti said.\\\\n\\\\n“I am beyond thrilled', '” Chakraborti said. “The economist’s tool kit empowers students. Students from my classes will tell you how much they enjoy seeing their analytical superpowers grow – and teaching teachers to bear the torch provides such enormous reach to a transformative skill set.”\\\\n\\\\nThe CNU Center for Economic Education', ' one of nine university-based centers in Virginia', ' has been a fixture at Christopher Newport since the 1980s', ' but since 2009 has been operating at a reduced capacity due to changes in funding to the Virginia Council on Economic Education (VCEE)', ' which provides a grant to help run the center.\\\\n\\\\nHowever', ' last summer the funding from VCEE was restored', ' and the CEE at Christopher Newport found new life', ' once again becoming a full-fledged resource for educators in 17 school systems across Hampton Roads.\\\\n\\\\nThe center serves as a repository for educators', ' providing lesson plans', ' workshops', ' classroom materials', ' and one-on-one training. This summer', ' the CEE will offer teachers an online economics institute.\\\\n\\\\nThe end goal', ' Chakraborti said', ' is to ensure elementary', ' middle', ' and high school students are as well versed as possible on the importance of making sound economic decisions as they move along life’s pathway. Supplementing the tools teachers have to convey effective', ' interesting and applicable lessons is key', ' he said.\\\\n\\\\nLesson plans offered by the Christopher Newport’s CEE cover a variety of applicable subjects that are rooted in economic relevance', ' including:\\\\n\\\\nPredicting Presidential Outcomes Based on Economic Indicators\\\\nLife After High School: Navigating Education', ' Career and Debt\\\\nInvesting in Alternative Energy\\\\n“The CNU Center for Economic Education seeks to provide every student graduate with the economic and financial skills needed to thrive in our dynamic economy', '” Chakraborti said. “They need to understand economics to get better at life. It will teach them how to make better decisions', ' and understand decisions others make around them. It will teach them to appreciate the role of moral', ' financial', ' and social incentives in all social phenomena they observe arou\""
      ]
     },
     "execution_count": 25,
     "metadata": {},
     "output_type": "execute_result"
    }
   ],
   "source": [
    "data2[0]"
   ]
  },
  {
   "cell_type": "code",
   "execution_count": 26,
   "id": "6b9fb327",
   "metadata": {},
   "outputs": [
    {
     "data": {
      "text/plain": [
       "'[\\'Annual education report finds technology to be critical for supporting educators in an evolving school environment\\\\n(PRNewsfoto/Promethean)\\\\nNEWS PROVIDED BY\\\\n\\\\nPromethean \\\\nMar 28\\', \\' 2023\\', \\' 08:00 ET\\\\n\\\\nWhile challenges like teacher burnout and student social-emotional needs abound\\', \\' schools are looking to high-tech tools to ease the burden\\\\n\\\\nSEATTLE\\', \\' March 28\\', \\' 2023 /PRNewswire/ -- Promethean\\', \\' a leading global education technology company\\', \\' today released its annual State of Technology in Education report\\', \\' a survey of 1\\', \\'700 U.S. educators offering a snapshot of current trends\\', \" as well as a glimpse at what the future holds. This year\\'s report\", \\' which includes student insights for the first time\\', \\' highlights a host of new challenges for K-12 schools\\', \\' but found that respondents believe technology holds the key to solving even the most entrenched problems.\\\\n\\\\nAccording to survey findings\\', \" educators put social-emotional learning (SEL) as one of their school\\'s top priorities\", \\' likely due to students still dealing with the fallout from pandemic disruptions. Two-thirds of respondents said their school is implementing SEL measures to tackle these issues\\', \\' and 70% said technology is a good tool for providing the experiential learning and connections that students need to thrive.\\\\n\\\\nThe report also sheds light on the growing problem of staff shortages\\', \\' which have plagued many schools as teachers quit\\', \\' retire\\', \" or decide to change careers. More than half of educators said they\\'ve had to take on a heavier workload because of inadequate staffing levels. But despite the hardships\", \" two-thirds say their school\\'s leadership is providing effective support\", \" and 99% see technology as an essential tool that can help make their jobs easier.\\\\n\\\\nThe addition of students in this year\\'s survey added another layer to the report\", \" offering insights into how effective teachers and schools have been at handling students\\' academic and social needs. Educators will be pleased to learn that 78% of students say their teachers make them happy\", \\' and 84% say their teachers work hard. Students overwhelmingly believe technology makes their lessons more interesting and enjoyable (96%)\\', \\' and the vast majority of students also feel that it helps them understand their lessons better\\', \\' focus on their work\\', \\' and connect with their peers.\\\\n\\\\n\"This year\\\\\\'s report shines a light on some of the biggest challenges facing teachers\\', \\' IT administrators\\', \\' and school leaders as they try to help students recover from the learning loss and social-emotional stresses of the past couple years\\', \\'\" said Jennifer Foreman\\', \\' chief marketing officer at Promethean. \"While there are still challenges to overcome\\', \" there\\'s so much hope for the future of education and dedication from administrators and teachers to get their schools back on track. As a leader in edtech\", \\' Promethean is working alongside these educators to build the tools they need to succeed.\"\\\\n\\\\nTo read the full State of Technology in Education Report 2022/23\\', \\' visit https://www.prometheanworld.com/stateoftech.\\\\n\\\\nAbout Promethean\\\\nPromethean is a leading education techn'"
      ]
     },
     "execution_count": 26,
     "metadata": {},
     "output_type": "execute_result"
    }
   ],
   "source": [
    "data3[0]"
   ]
  },
  {
   "cell_type": "code",
   "execution_count": 27,
   "id": "d5b9a114",
   "metadata": {},
   "outputs": [],
   "source": [
    "def chatgptfn(sub_list):\n",
    "    result = ''\n",
    "    response = openai.ChatCompletion.create(\n",
    "        model=\"gpt-3.5-turbo\",\n",
    "        messages=[\n",
    "            {\"role\": \"system\", \"content\": \"You are an assistant\"},\n",
    "            {\"role\": \"user\", \"content\": f\"{sub_list} :give me a summary\"}\n",
    "        ]\n",
    "    )\n",
    "    for choice in response.choices:\n",
    "        result += choice.message.content\n",
    "    return result"
   ]
  },
  {
   "cell_type": "code",
   "execution_count": 28,
   "id": "c0cdea29",
   "metadata": {},
   "outputs": [],
   "source": [
    "data1[0] = chatgptfn(data1[0])\n",
    "data2[0] = chatgptfn(data2[0])\n",
    "data3[0] = chatgptfn(data3[0])"
   ]
  },
  {
   "cell_type": "code",
   "execution_count": 29,
   "id": "aed1e59f",
   "metadata": {},
   "outputs": [],
   "source": [
    "for i in range(0,5):\n",
    "    data1[i] = chatgptfn(data1[i])"
   ]
  },
  {
   "cell_type": "code",
   "execution_count": 30,
   "id": "090a5b77",
   "metadata": {},
   "outputs": [
    {
     "data": {
      "text/plain": [
       "'This paper discusses the potential use of blockchain technology in education and presents a literature review on the topic. The authors collected data from the SCOPUS database and identified potential areas where blockchain can be applied in education. The study highlights the benefits and barriers of implementing blockchain in education and emphasizes the need for further exploration in this area. Overall, the paper acknowledges the potential of blockchain technology in the educational sector and encourages more research in this field.'"
      ]
     },
     "execution_count": 30,
     "metadata": {},
     "output_type": "execute_result"
    }
   ],
   "source": [
    "data1[0]"
   ]
  },
  {
   "cell_type": "code",
   "execution_count": 31,
   "id": "df9c32f2",
   "metadata": {},
   "outputs": [
    {
     "data": {
      "text/plain": [
       "\"Blockchain technology eliminates the need for third-party intermediaries, allowing for secure and transparent transactions directly. Its progress can be categorized into four generations, each improving its capabilities and applications. Blockchain technology offers security, decentralization, transparency, and immutability, which make it applicable in various sectors such as finance, government, education, health, tourism, energy, public services, banking, and business. It is estimated that by 2025, 10% of the world's GDP will be controlled by the use of blockchain technologies. The application of blockchain technology in education is still in its early stages, but it offers promising potential in creating trusted, decentralized credit transfer and grading systems. Overall, blockchain technology's strong cybersecurity capabilities have been used in various sectors and have the potential to revolutionize how transactions are conducted.\""
      ]
     },
     "execution_count": 31,
     "metadata": {},
     "output_type": "execute_result"
    }
   ],
   "source": [
    "data1[1]"
   ]
  },
  {
   "cell_type": "code",
   "execution_count": 32,
   "id": "f33e616b",
   "metadata": {},
   "outputs": [
    {
     "data": {
      "text/plain": [
       "'This paper provides a systematic literature review on the use of blockchain technology in the education sector. It highlights the potential benefits, challenges and current applications of the technology in educational settings. The review aims to explore the ways in which blockchain technology can facilitate teaching, learning and student activity management in schools, colleges and universities. The authors followed the Preferred Reporting Items for Systematic Reviews and Meta-Analyses (PRISMA) diagram to conduct the systematic review and address the research questions. The conclusions of the research offer recommendations for policy-makers, higher education institutions, academicians, managers and researchers to use the potential benefits of blockchain technology for the benefit of the education sector.'"
      ]
     },
     "execution_count": 32,
     "metadata": {},
     "output_type": "execute_result"
    }
   ],
   "source": [
    "data1[2]"
   ]
  },
  {
   "cell_type": "code",
   "execution_count": 33,
   "id": "5d69c308",
   "metadata": {},
   "outputs": [],
   "source": [
    "for i in range(0,5):\n",
    "    data2[i] = chatgptfn(data2[i])"
   ]
  },
  {
   "cell_type": "code",
   "execution_count": 34,
   "id": "bf2f037b",
   "metadata": {},
   "outputs": [
    {
     "data": {
      "text/plain": [
       "'The Center for Economic Education (CEE) at Christopher Newport University has partnered with 17 school districts in Virginia to provide resources and support for K-12 teachers to create more engaging economics and personal finance lessons for their students. The CEE offers lesson plans, workshops, materials, and online training for teachers, with the goal of ensuring that students are well-prepared for economic decision-making. With funding restored, the CEE is fully operational as a resource for educators.'"
      ]
     },
     "execution_count": 34,
     "metadata": {},
     "output_type": "execute_result"
    }
   ],
   "source": [
    "data2[0]"
   ]
  },
  {
   "cell_type": "code",
   "execution_count": 35,
   "id": "71d6039d",
   "metadata": {},
   "outputs": [
    {
     "data": {
      "text/plain": [
       "\"Christopher Newport University (CNU) has opened a Center for Economic Education (CEE) that aims to improve financial literacy and decision-making skills in K-12 students. The CEE will offer professional development programmes for teachers and work closely with the university's existing Center for Sustainable Education and teaching programmes. The centre's goal is to have a long-term impact on K-12 students and positively influence their economic education as they enter college. Christopher Newport's CEE is one of a few in the state with both office space and a dedicated library.\""
      ]
     },
     "execution_count": 35,
     "metadata": {},
     "output_type": "execute_result"
    }
   ],
   "source": [
    "data2[1]"
   ]
  },
  {
   "cell_type": "code",
   "execution_count": 36,
   "id": "82b284d7",
   "metadata": {},
   "outputs": [
    {
     "data": {
      "text/plain": [
       "'Sure, can you please clarify what you would like me to give a summary of? A book, article, movie or something else?'"
      ]
     },
     "execution_count": 36,
     "metadata": {},
     "output_type": "execute_result"
    }
   ],
   "source": [
    "data2[2]"
   ]
  },
  {
   "cell_type": "code",
   "execution_count": 37,
   "id": "8f9b8183",
   "metadata": {},
   "outputs": [],
   "source": [
    "for i in range(0,5):\n",
    "    data3[i] = chatgptfn(data3[i])"
   ]
  },
  {
   "cell_type": "code",
   "execution_count": 38,
   "id": "0cf723e2",
   "metadata": {},
   "outputs": [],
   "source": [
    "data11 = ''\n",
    "for i in range(0,5):\n",
    "    data11 = data11 + data1[i]"
   ]
  },
  {
   "cell_type": "code",
   "execution_count": 39,
   "id": "5784fa08",
   "metadata": {},
   "outputs": [
    {
     "data": {
      "text/plain": [
       "['This paper discusses the potential use of blockchain technology in education and presents a literature review on the topic. The authors collected data from the SCOPUS database and identified potential areas where blockchain can be applied in education. The study highlights the benefits and barriers of implementing blockchain in education and emphasizes the need for further exploration in this area. Overall, the paper acknowledges the potential of blockchain technology in the educational sector and encourages more research in this field.',\n",
       " \"Blockchain technology eliminates the need for third-party intermediaries, allowing for secure and transparent transactions directly. Its progress can be categorized into four generations, each improving its capabilities and applications. Blockchain technology offers security, decentralization, transparency, and immutability, which make it applicable in various sectors such as finance, government, education, health, tourism, energy, public services, banking, and business. It is estimated that by 2025, 10% of the world's GDP will be controlled by the use of blockchain technologies. The application of blockchain technology in education is still in its early stages, but it offers promising potential in creating trusted, decentralized credit transfer and grading systems. Overall, blockchain technology's strong cybersecurity capabilities have been used in various sectors and have the potential to revolutionize how transactions are conducted.\",\n",
       " 'This paper provides a systematic literature review on the use of blockchain technology in the education sector. It highlights the potential benefits, challenges and current applications of the technology in educational settings. The review aims to explore the ways in which blockchain technology can facilitate teaching, learning and student activity management in schools, colleges and universities. The authors followed the Preferred Reporting Items for Systematic Reviews and Meta-Analyses (PRISMA) diagram to conduct the systematic review and address the research questions. The conclusions of the research offer recommendations for policy-makers, higher education institutions, academicians, managers and researchers to use the potential benefits of blockchain technology for the benefit of the education sector.',\n",
       " 'This passage describes the process of conducting a systematic literature review on the topic of blockchain technology in education. The authors searched the academic database and identified 204 documents, which they then screened based on inclusion criteria. They ultimately selected 36 articles for analysis in the final stage, where they performed content analysis to better understand the current state of literature on the subject. The passage notes that blockchain technology is a relatively new area of research but has been widely applied in various fields. However, its application is still immature and lacks public knowledge, making it difficult to have a clear strategic vision for its future.',\n",
       " 'The article examines the potential applications of blockchain technology in education, including data and credentials management, administration activities, and teaching and learning. The authors conducted a systematic literature review and found that blockchain technology in education is a multidisciplinary area of research with significant potential for growth. However, there are issues with scalability and security of smart contracts that need to be addressed. The authors also provide information on country-wise publications and the most cited studies on the topic. Overall, the article suggests that blockchain technology in education is still a new area of study with tremendous scope for further research and application.']"
      ]
     },
     "execution_count": 39,
     "metadata": {},
     "output_type": "execute_result"
    }
   ],
   "source": [
    "data1"
   ]
  },
  {
   "cell_type": "code",
   "execution_count": 40,
   "id": "c21f2670",
   "metadata": {},
   "outputs": [],
   "source": [
    "data22 = ''\n",
    "for i in range(0,5):\n",
    "    data22 = data22 + data2[i]"
   ]
  },
  {
   "cell_type": "code",
   "execution_count": 41,
   "id": "024af441",
   "metadata": {},
   "outputs": [
    {
     "data": {
      "text/plain": [
       "['The Center for Economic Education (CEE) at Christopher Newport University has partnered with 17 school districts in Virginia to provide resources and support for K-12 teachers to create more engaging economics and personal finance lessons for their students. The CEE offers lesson plans, workshops, materials, and online training for teachers, with the goal of ensuring that students are well-prepared for economic decision-making. With funding restored, the CEE is fully operational as a resource for educators.',\n",
       " \"Christopher Newport University (CNU) has opened a Center for Economic Education (CEE) that aims to improve financial literacy and decision-making skills in K-12 students. The CEE will offer professional development programmes for teachers and work closely with the university's existing Center for Sustainable Education and teaching programmes. The centre's goal is to have a long-term impact on K-12 students and positively influence their economic education as they enter college. Christopher Newport's CEE is one of a few in the state with both office space and a dedicated library.\",\n",
       " 'Sure, can you please clarify what you would like me to give a summary of? A book, article, movie or something else?',\n",
       " 'I apologize, but I need more details on what you need a summary of before I can assist you. Please provide me with additional information.',\n",
       " 'Sure, can you please provide more context on what you would like me to summarize? Is there a specific topic or subject you would like me to focus on?']"
      ]
     },
     "execution_count": 41,
     "metadata": {},
     "output_type": "execute_result"
    }
   ],
   "source": [
    "data2"
   ]
  },
  {
   "cell_type": "code",
   "execution_count": 42,
   "id": "b421e7f1",
   "metadata": {},
   "outputs": [],
   "source": [
    "data33 = ''\n",
    "for i in range(0,5):\n",
    "    data33 = data33 + data3[i]"
   ]
  },
  {
   "cell_type": "code",
   "execution_count": 43,
   "id": "aead4f53",
   "metadata": {},
   "outputs": [
    {
     "data": {
      "text/plain": [
       "[\"Promethean's annual report on the State of Technology in Education highlights the importance of technology in supporting educators as they face new challenges in the wake of staff shortages and student social-emotional needs. The report includes insights from 1,700 U.S. educators and student perspectives for the first time. The survey found that 99% of educators believe technology is an essential tool to solve even the most entrenched problems, while students believe technology makes their lessons more interesting and enjoyable.\",\n",
       " \"Promethean is an educational technology company providing interactive display, lesson delivery software, and collaboration tools designed to engage students and connect colleagues. The company has operations in over 126 countries, and its products are used around the world. Promethean is a subsidiary of the NetDragon Websoft Holdings Limited (HKSE: 0777) group of companies, with headquarters in Seattle, Washington. The company's trademarks, including Promethean, ActivPanel, ActivInspire, and ClassFlow, are registered, and it has received awards for its product innovation.\",\n",
       " 'I apologize, but I am not sure what you would like me to give a summary of. Can you please provide more context or information?',\n",
       " 'Sure, I can provide you with a summary. However, I will need clarification on what exactly you need a summary of. Could you please provide me with more information or context?',\n",
       " 'Sure. Can you please provide me with more context or information on what you want me to summarize?']"
      ]
     },
     "execution_count": 43,
     "metadata": {},
     "output_type": "execute_result"
    }
   ],
   "source": [
    "data3"
   ]
  },
  {
   "cell_type": "code",
   "execution_count": 44,
   "id": "bbbdbd5b",
   "metadata": {},
   "outputs": [],
   "source": [
    "papers = [data11, data22, data33]"
   ]
  },
  {
   "cell_type": "code",
   "execution_count": 45,
   "id": "e7a0f196",
   "metadata": {},
   "outputs": [],
   "source": [
    "import gensim\n",
    "from gensim import corpora\n",
    "from pprint import pprint"
   ]
  },
  {
   "cell_type": "code",
   "execution_count": 46,
   "id": "c93a694b",
   "metadata": {},
   "outputs": [],
   "source": [
    "# 創建詞袋\n",
    "texts = [[word for word in document.lower().split()] for document in papers]\n",
    "dictionary = corpora.Dictionary(texts)\n",
    "corpus = [dictionary.doc2bow(text) for text in texts]\n"
   ]
  },
  {
   "cell_type": "code",
   "execution_count": 47,
   "id": "220a2482",
   "metadata": {},
   "outputs": [],
   "source": [
    "# 訓練 LDA 模型\n",
    "lda_model = gensim.models.ldamodel.LdaModel(corpus=corpus, id2word=dictionary, \n",
    "                                            num_topics=3, random_state=100, update_every=1, \n",
    "                                            chunksize=100, passes=10, alpha='auto', per_word_topics=True)"
   ]
  },
  {
   "cell_type": "code",
   "execution_count": 48,
   "id": "2e3c7136",
   "metadata": {},
   "outputs": [
    {
     "name": "stdout",
     "output_type": "stream",
     "text": [
      "Requirement already satisfied: pyLDAvis in d:\\p\\lib\\site-packages (3.4.0)\n",
      "Requirement already satisfied: scikit-learn>=1.0.0 in d:\\p\\lib\\site-packages (from pyLDAvis) (1.0.2)\n",
      "Requirement already satisfied: funcy in d:\\p\\lib\\site-packages (from pyLDAvis) (2.0)\n",
      "Requirement already satisfied: joblib>=1.2.0 in d:\\p\\lib\\site-packages (from pyLDAvis) (1.2.0)\n",
      "Requirement already satisfied: scipy in d:\\p\\lib\\site-packages (from pyLDAvis) (1.9.1)\n",
      "Requirement already satisfied: setuptools in d:\\p\\lib\\site-packages (from pyLDAvis) (63.4.1)\n",
      "Requirement already satisfied: numpy>=1.22.0 in d:\\p\\lib\\site-packages (from pyLDAvis) (1.24.2)\n",
      "Requirement already satisfied: numexpr in d:\\p\\lib\\site-packages (from pyLDAvis) (2.8.3)\n",
      "Requirement already satisfied: gensim in d:\\p\\lib\\site-packages (from pyLDAvis) (4.1.2)\n",
      "Requirement already satisfied: jinja2 in d:\\p\\lib\\site-packages (from pyLDAvis) (2.11.3)\n",
      "Requirement already satisfied: pandas>=1.3.4 in d:\\p\\lib\\site-packages (from pyLDAvis) (1.4.4)\n",
      "Requirement already satisfied: python-dateutil>=2.8.1 in d:\\p\\lib\\site-packages (from pandas>=1.3.4->pyLDAvis) (2.8.2)\n",
      "Requirement already satisfied: pytz>=2020.1 in d:\\p\\lib\\site-packages (from pandas>=1.3.4->pyLDAvis) (2022.1)\n",
      "Requirement already satisfied: threadpoolctl>=2.0.0 in d:\\p\\lib\\site-packages (from scikit-learn>=1.0.0->pyLDAvis) (2.2.0)\n",
      "Requirement already satisfied: smart-open>=1.8.1 in d:\\p\\lib\\site-packages (from gensim->pyLDAvis) (5.2.1)\n",
      "Requirement already satisfied: MarkupSafe>=0.23 in d:\\p\\lib\\site-packages (from jinja2->pyLDAvis) (2.0.1)\n",
      "Requirement already satisfied: packaging in d:\\p\\lib\\site-packages (from numexpr->pyLDAvis) (21.3)\n",
      "Requirement already satisfied: six>=1.5 in d:\\p\\lib\\site-packages (from python-dateutil>=2.8.1->pandas>=1.3.4->pyLDAvis) (1.16.0)\n",
      "Requirement already satisfied: pyparsing!=3.0.5,>=2.0.2 in d:\\p\\lib\\site-packages (from packaging->numexpr->pyLDAvis) (3.0.9)\n"
     ]
    }
   ],
   "source": [
    "!pip install pyLDAvis"
   ]
  },
  {
   "cell_type": "code",
   "execution_count": 49,
   "id": "af1230b7",
   "metadata": {},
   "outputs": [
    {
     "name": "stderr",
     "output_type": "stream",
     "text": [
      "D:\\P\\lib\\site-packages\\pyLDAvis\\_prepare.py:243: FutureWarning: In a future version of pandas all arguments of DataFrame.drop except for the argument 'labels' will be keyword-only.\n",
      "  default_term_info = default_term_info.sort_values(\n"
     ]
    },
    {
     "data": {
      "text/html": [
       "\n",
       "<link rel=\"stylesheet\" type=\"text/css\" href=\"https://cdn.jsdelivr.net/gh/bmabey/pyLDAvis@3.4.0/pyLDAvis/js/ldavis.v1.0.0.css\">\n",
       "\n",
       "\n",
       "<div id=\"ldavis_el1752415408245813927575583434\" style=\"background-color:white;\"></div>\n",
       "<script type=\"text/javascript\">\n",
       "\n",
       "var ldavis_el1752415408245813927575583434_data = {\"mdsDat\": {\"x\": [-0.11006094679733773, 0.07079210992981486, 0.039268836867522854], \"y\": [-0.010466052940189846, -0.04957903382352295, 0.06004508676371277], \"topics\": [1, 2, 3], \"cluster\": [1, 1, 1], \"Freq\": [53.107315347924, 23.8526062098279, 23.040078442248102]}, \"tinfo\": {\"Term\": [\"you\", \"blockchain\", \"me\", \"economic\", \"cee\", \"for\", \"with\", \"a\", \"technology\", \"please\", \"what\", \"provide\", \"more\", \"i\", \"or\", \"educators\", \"center\", \"k-12\", \"potential\", \"to\", \"like\", \"would\", \"summary\", \"students\", \"report\", \"of.\", \"believe\", \"company\", \"an\", \"context\", \"blockchain\", \"potential\", \"review\", \"research\", \"systematic\", \"literature\", \"authors\", \"be\", \"use\", \"overall,\", \"still\", \"which\", \"paper\", \"this\", \"various\", \"area\", \"public\", \"current\", \"benefits\", \"been\", \"sectors\", \"passage\", \"database\", \"applied\", \"study\", \"topic.\", \"application\", \"capabilities\", \"by\", \"transactions\", \"it\", \"the\", \"in\", \"technology\", \"of\", \"and\", \"its\", \"education\", \"that\", \"for\", \"on\", \"have\", \"is\", \"a\", \"to\", \"need\", \"can\", \"with\", \"they\", \"economic\", \"cee\", \"center\", \"k-12\", \"(cee)\", \"students.\", \"university\", \"teachers\", \"newport\", \"christopher\", \"goal\", \"like\", \"would\", \"personal\", \"specific\", \"influence\", \"skills\", \"economics\", \"on?\", \"else?i\", \"teachers,\", \"decision-making\", \"professional\", \"partnered\", \"assist\", \"workshops,\", \"long-term\", \"book,\", \"literacy\", \"opened\", \"their\", \"you\", \"me\", \"a\", \"with\", \"for\", \"what\", \"please\", \"to\", \"summary\", \"students\", \"provide\", \"more\", \"as\", \"is\", \"and\", \"education\", \"can\", \"the\", \"on\", \"of\", \"in\", \"that\", \"has\", \"need\", \"or\", \"i\", \"educators\", \"report\", \"believe\", \"of.\", \"company\", \"an\", \"social-emotional\", \"information?sure,\", \"99%\", \"promethean's\", \"websoft\", \"enjoyable.promethean\", \"staff\", \"survey\", \"needs.\", \"trademarks,\", \"over\", \"countries,\", \"limited\", \"makes\", \"promethean,\", \"(hkse:\", \"delivery\", \"providing\", \"innovation.i\", \"while\", \"washington.\", \"insights\", \"entrenched\", \"annual\", \"you\", \"i\", \"or\", \"context\", \"me\", \"provide\", \"more\", \"student\", \"information\", \"please\", \"what\", \"students\", \"summary\", \"with\", \"the\", \"and\", \"technology\", \"of\", \"can\", \"to\", \"has\", \"in\", \"are\", \"a\", \"is\", \"on\", \"for\", \"its\", \"need\"], \"Freq\": [8.0, 13.0, 5.0, 3.0, 3.0, 15.0, 9.0, 14.0, 14.0, 4.0, 4.0, 5.0, 5.0, 3.0, 3.0, 2.0, 2.0, 2.0, 7.0, 12.0, 3.0, 3.0, 3.0, 3.0, 1.0, 1.0, 1.0, 1.0, 1.0, 2.0, 12.74542334918964, 7.2852618636845206, 4.9442782857297, 4.942410919442411, 4.16552126162292, 4.164122563837684, 4.161892247411069, 3.382989556067164, 3.3825954263185554, 2.6025242303985827, 2.6019588563896083, 2.6018726252826814, 2.601821714826897, 2.601417110678294, 2.6007681850600655, 2.600485863441625, 1.8234177754361907, 1.822911959352763, 1.8222070078741017, 1.822197507836898, 1.8222004309252684, 1.8221772898090027, 1.8220546418927948, 1.821976692869584, 1.8219494107114604, 1.8219439299207658, 1.821859282153373, 1.82183589744641, 1.8217609933069183, 1.8217499099301806, 4.162791584266362, 34.63878816433305, 16.677368901217704, 11.190572234481511, 15.10048841818746, 20.5768428389018, 4.163841460172731, 6.518814939068279, 4.169455738569477, 8.087316389284775, 5.735672795224505, 2.605381792871345, 4.949982692684534, 6.523689676107314, 5.731531753366441, 2.610176144980194, 2.6069315168890514, 2.605533306285211, 2.6054482931317717, 2.6557716434134493, 2.654791144471878, 2.043080808259942, 2.0426147375735892, 1.4318054713552684, 1.4312385280931368, 1.4309584480562676, 1.4308270511327208, 1.4306377782953053, 1.4303764067296487, 1.4302350538360413, 2.0481450054265835, 2.04617700554252, 0.81824846680649, 0.818139881089071, 0.8180746749554874, 0.8180890618792562, 0.818031295371652, 0.8179940972417553, 0.8179852900374709, 0.8180007163207517, 0.8179940972417553, 0.8178831045865195, 0.8178895595561192, 0.8178878090558888, 0.8178489151288938, 0.8178438824407313, 0.8178636849745881, 0.8178180078592002, 0.8178722186632115, 1.4326308322139172, 3.8912556693628195, 2.662975827111795, 5.744013558881498, 3.897988968499179, 5.744055570887029, 2.0487379873796425, 2.0473686585743867, 4.515193468496856, 1.4335381383646033, 1.4318187095132608, 2.052643134581209, 2.0506245890029913, 1.4350659968469779, 2.6682804992475924, 5.144956057147659, 2.6710018706683285, 2.0539459443777086, 5.196598439695768, 2.060728038707991, 2.0724916190690275, 2.0777919149542488, 1.4427776067996203, 1.437520854607631, 1.4375022555426826, 1.4351793417368985, 1.4348953230745107, 2.017022021026979, 1.4122775145864888, 1.4115175740810206, 1.4115612196697787, 1.411369517253297, 1.4112848680605727, 0.8075518719174108, 0.807563179612319, 0.8075433118866858, 0.8075124535043194, 0.8074412784340327, 0.8074888341602822, 0.807448464632666, 0.8074130620364579, 0.8074189800823912, 0.807390922203904, 0.8074198783572203, 0.8073668273026041, 0.8073458499433585, 0.8073466953784918, 0.8073419926455627, 0.8073535645389501, 0.807342204004346, 0.8073476993327127, 0.8073251896222878, 0.8073411472104294, 0.8073503941572001, 0.8072882018352049, 0.8073040537439548, 0.8072756788272925, 4.442892245354595, 2.01989100515192, 2.0192269158546927, 1.414067089404956, 2.6253417669669123, 2.6312454405029255, 2.6313878963228907, 1.414545394331635, 1.4140521886107311, 2.0214696439046222, 2.019259676466109, 1.4156041961567338, 1.415042404510639, 2.634412017794797, 6.904762999888269, 5.094590422550336, 3.2505552090997427, 3.8680817436415924, 2.0250625318624733, 2.640300896215977, 1.4156348431803167, 3.248998340301723, 1.4193901603631578, 2.635356580197505, 2.032906479029469, 2.024234005431814, 1.4246312241134271, 1.417063734235029, 1.416802283420048], \"Total\": [8.0, 13.0, 5.0, 3.0, 3.0, 15.0, 9.0, 14.0, 14.0, 4.0, 4.0, 5.0, 5.0, 3.0, 3.0, 2.0, 2.0, 2.0, 7.0, 12.0, 3.0, 3.0, 3.0, 3.0, 1.0, 1.0, 1.0, 1.0, 1.0, 2.0, 13.200459989029635, 7.718182108810993, 5.368434011732687, 5.367992061004211, 4.585517707363774, 4.585188157792744, 4.584719997656955, 3.8017695027383973, 3.801668114602107, 3.018491919623867, 3.018376797877042, 3.0183491678170524, 3.0183312663011397, 3.0182445912203204, 3.018095920874689, 3.018049652436627, 2.2355064258026403, 2.2353988189800043, 2.235240775241998, 2.235238410003435, 2.235242423465673, 2.23523335672788, 2.2352096531997643, 2.235189868641347, 2.2351876898319274, 2.2351868286503724, 2.235165379105026, 2.23515829580973, 2.2351436589910665, 2.235135990366279, 5.1919952126318805, 46.74014960391709, 22.004159156473676, 14.670767691560679, 21.04106178089808, 30.816389318599796, 5.799389012090447, 10.005318995128725, 6.423605421615831, 15.25600318428523, 9.82063483936431, 3.6341428025819327, 9.651169670961595, 14.903059815186317, 12.887026118079273, 5.4644806839429245, 6.685939993129233, 9.137934292579185, 4.241263655290877, 3.130048541130797, 3.1304480544023923, 2.51460980484194, 2.5147126656316576, 1.899248976143927, 1.8993254063144533, 1.8992440047509231, 1.8993261235966974, 1.8993938805560202, 1.899261448129304, 1.8994514472965214, 3.122181435744514, 3.1220116827919875, 1.283935071072196, 1.2839690267795707, 1.2839744420531558, 1.2840517525763242, 1.2839921188375576, 1.2839406018906625, 1.2839453138943209, 1.2840136367006127, 1.2840159368167374, 1.2839733816338528, 1.2839920698818825, 1.2839919455908047, 1.2839855273017053, 1.2839802635344102, 1.284030072933203, 1.2839594099595353, 1.284054981640474, 2.506580582637398, 8.612639739314144, 5.559590577905201, 14.903059815186317, 9.137934292579185, 15.25600318428523, 4.336890127131765, 4.336623372005199, 12.887026118079273, 3.1139113447772733, 3.1142199408781526, 5.725500788833916, 5.726014202023116, 3.289785796556756, 9.651169670961595, 30.816389318599796, 10.005318995128725, 6.685939993129233, 46.74014960391709, 9.82063483936431, 21.04106178089808, 22.004159156473676, 6.423605421615831, 3.896654034308729, 5.4644806839429245, 3.721407695843817, 3.7212915417789443, 2.4905123461597922, 1.8834544631674155, 1.8834642434777809, 1.8835372725378874, 1.8834189748256656, 1.8834359700273433, 1.2760039069783673, 1.2760428856922124, 1.2760227513153515, 1.2760577066388732, 1.275986423463741, 1.2760639030939687, 1.276018827458722, 1.2760366210492975, 1.2760490143034213, 1.2760293282456732, 1.2760935839511482, 1.2760250290860617, 1.2759940028462309, 1.276021343715432, 1.2760313976767836, 1.2760640132013885, 1.2760467697815114, 1.2760558994405002, 1.2760210397149834, 1.276047553115707, 1.2760688569482295, 1.2759852469946562, 1.2760318639951254, 1.276037853196712, 8.612639739314144, 3.7212915417789443, 3.721407695843817, 2.498672785224357, 5.559590577905201, 5.725500788833916, 5.726014202023116, 2.6664425613525307, 2.6664811106644306, 4.336623372005199, 4.336890127131765, 3.1142199408781526, 3.1139113447772733, 9.137934292579185, 46.74014960391709, 30.816389318599796, 14.670767691560679, 21.04106178089808, 6.685939993129233, 12.887026118079273, 3.896654034308729, 22.004159156473676, 4.064521303732182, 14.903059815186317, 9.651169670961595, 9.82063483936431, 15.25600318428523, 5.799389012090447, 5.4644806839429245], \"Category\": [\"Default\", \"Default\", \"Default\", \"Default\", \"Default\", \"Default\", \"Default\", \"Default\", \"Default\", \"Default\", \"Default\", \"Default\", \"Default\", \"Default\", \"Default\", \"Default\", \"Default\", \"Default\", \"Default\", \"Default\", \"Default\", \"Default\", \"Default\", \"Default\", \"Default\", \"Default\", \"Default\", \"Default\", \"Default\", \"Default\", \"Topic1\", \"Topic1\", \"Topic1\", \"Topic1\", \"Topic1\", \"Topic1\", \"Topic1\", \"Topic1\", \"Topic1\", \"Topic1\", \"Topic1\", \"Topic1\", \"Topic1\", \"Topic1\", \"Topic1\", \"Topic1\", \"Topic1\", \"Topic1\", \"Topic1\", \"Topic1\", \"Topic1\", \"Topic1\", \"Topic1\", \"Topic1\", \"Topic1\", \"Topic1\", \"Topic1\", \"Topic1\", \"Topic1\", \"Topic1\", \"Topic1\", \"Topic1\", \"Topic1\", \"Topic1\", \"Topic1\", \"Topic1\", \"Topic1\", \"Topic1\", \"Topic1\", \"Topic1\", \"Topic1\", \"Topic1\", \"Topic1\", \"Topic1\", \"Topic1\", \"Topic1\", \"Topic1\", \"Topic1\", \"Topic1\", \"Topic2\", \"Topic2\", \"Topic2\", \"Topic2\", \"Topic2\", \"Topic2\", \"Topic2\", \"Topic2\", \"Topic2\", \"Topic2\", \"Topic2\", \"Topic2\", \"Topic2\", \"Topic2\", \"Topic2\", \"Topic2\", \"Topic2\", \"Topic2\", \"Topic2\", \"Topic2\", \"Topic2\", \"Topic2\", \"Topic2\", \"Topic2\", \"Topic2\", \"Topic2\", \"Topic2\", \"Topic2\", \"Topic2\", \"Topic2\", \"Topic2\", \"Topic2\", \"Topic2\", \"Topic2\", \"Topic2\", \"Topic2\", \"Topic2\", \"Topic2\", \"Topic2\", \"Topic2\", \"Topic2\", \"Topic2\", \"Topic2\", \"Topic2\", \"Topic2\", \"Topic2\", \"Topic2\", \"Topic2\", \"Topic2\", \"Topic2\", \"Topic2\", \"Topic2\", \"Topic2\", \"Topic2\", \"Topic2\", \"Topic2\", \"Topic2\", \"Topic3\", \"Topic3\", \"Topic3\", \"Topic3\", \"Topic3\", \"Topic3\", \"Topic3\", \"Topic3\", \"Topic3\", \"Topic3\", \"Topic3\", \"Topic3\", \"Topic3\", \"Topic3\", \"Topic3\", \"Topic3\", \"Topic3\", \"Topic3\", \"Topic3\", \"Topic3\", \"Topic3\", \"Topic3\", \"Topic3\", \"Topic3\", \"Topic3\", \"Topic3\", \"Topic3\", \"Topic3\", \"Topic3\", \"Topic3\", \"Topic3\", \"Topic3\", \"Topic3\", \"Topic3\", \"Topic3\", \"Topic3\", \"Topic3\", \"Topic3\", \"Topic3\", \"Topic3\", \"Topic3\", \"Topic3\", \"Topic3\", \"Topic3\", \"Topic3\", \"Topic3\", \"Topic3\", \"Topic3\", \"Topic3\", \"Topic3\", \"Topic3\", \"Topic3\", \"Topic3\", \"Topic3\", \"Topic3\", \"Topic3\", \"Topic3\", \"Topic3\", \"Topic3\"], \"logprob\": [30.0, 29.0, 28.0, 27.0, 26.0, 25.0, 24.0, 23.0, 22.0, 21.0, 20.0, 19.0, 18.0, 17.0, 16.0, 15.0, 14.0, 13.0, 12.0, 11.0, 10.0, 9.0, 8.0, 7.0, 6.0, 5.0, 4.0, 3.0, 2.0, 1.0, -3.7146, -4.2739, -4.6616, -4.6619, -4.8329, -4.8333, -4.8338, -5.041, -5.0411, -5.3033, -5.3035, -5.3036, -5.3036, -5.3037, -5.304, -5.3041, -5.6591, -5.6594, -5.6597, -5.6597, -5.6597, -5.6598, -5.6598, -5.6599, -5.6599, -5.6599, -5.6599, -5.6599, -5.66, -5.66, -4.8336, -2.7148, -3.4457, -3.8447, -3.5451, -3.2356, -4.8333, -4.3851, -4.832, -4.1695, -4.5131, -5.3022, -4.6604, -4.3843, -4.5138, -5.3004, -5.3016, -5.3021, -5.3022, -4.4826, -4.483, -4.7449, -4.7451, -5.1004, -5.1008, -5.101, -5.1011, -5.1012, -5.1014, -5.1015, -4.7424, -4.7434, -5.66, -5.6601, -5.6602, -5.6601, -5.6602, -5.6603, -5.6603, -5.6603, -5.6603, -5.6604, -5.6604, -5.6604, -5.6604, -5.6604, -5.6604, -5.6605, -5.6604, -5.0999, -4.1006, -4.4799, -3.7112, -4.0989, -3.7112, -4.7421, -4.7428, -3.9519, -5.0992, -5.1004, -4.7402, -4.7412, -5.0982, -4.4779, -3.8213, -4.4769, -4.7396, -3.8114, -4.7363, -4.7306, -4.7281, -5.0928, -5.0964, -5.0965, -5.0981, -5.0983, -4.7231, -5.0795, -5.08, -5.08, -5.0801, -5.0802, -5.6385, -5.6384, -5.6385, -5.6385, -5.6386, -5.6385, -5.6386, -5.6386, -5.6386, -5.6387, -5.6386, -5.6387, -5.6387, -5.6387, -5.6387, -5.6387, -5.6387, -5.6387, -5.6387, -5.6387, -5.6387, -5.6388, -5.6388, -5.6388, -3.9334, -4.7217, -4.722, -5.0782, -4.4595, -4.4572, -4.4572, -5.0779, -5.0782, -4.7209, -4.722, -5.0772, -5.0775, -4.456, -3.4925, -3.7965, -4.2459, -4.0719, -4.7191, -4.4538, -5.0771, -4.2464, -5.0745, -4.4557, -4.7152, -4.7195, -5.0708, -5.0761, -5.0763], \"loglift\": [30.0, 29.0, 28.0, 27.0, 26.0, 25.0, 24.0, 23.0, 22.0, 21.0, 20.0, 19.0, 18.0, 17.0, 16.0, 15.0, 14.0, 13.0, 12.0, 11.0, 10.0, 9.0, 8.0, 7.0, 6.0, 5.0, 4.0, 3.0, 2.0, 1.0, 0.5978, 0.5751, 0.5506, 0.5503, 0.5368, 0.5365, 0.5361, 0.5161, 0.5161, 0.4846, 0.4844, 0.4844, 0.4844, 0.4842, 0.484, 0.4839, 0.4291, 0.4289, 0.4286, 0.4286, 0.4286, 0.4285, 0.4285, 0.4285, 0.4284, 0.4284, 0.4284, 0.4284, 0.4284, 0.4284, 0.4119, 0.3332, 0.3557, 0.3621, 0.3011, 0.229, 0.3015, 0.2044, 0.2007, -0.0018, 0.0951, 0.3001, -0.0348, -0.1933, -0.1774, -0.106, -0.309, -0.6219, 0.1456, 1.269, 1.2685, 1.2256, 1.2253, 1.1508, 1.1503, 1.1502, 1.15, 1.1499, 1.1497, 1.1496, 1.0117, 1.0108, 0.9828, 0.9826, 0.9825, 0.9825, 0.9824, 0.9824, 0.9824, 0.9824, 0.9824, 0.9823, 0.9823, 0.9823, 0.9822, 0.9822, 0.9822, 0.9822, 0.9822, 0.8739, 0.6388, 0.6972, 0.4799, 0.5813, 0.4565, 0.6833, 0.6827, 0.3845, 0.6575, 0.6562, 0.4075, 0.4064, 0.6037, 0.1476, -0.3568, 0.1126, 0.253, -0.7633, -0.1281, -0.8844, -0.9266, -0.0601, 0.4361, 0.0979, 0.4805, 0.4803, 1.2571, 1.18, 1.1795, 1.1795, 1.1794, 1.1793, 1.0105, 1.0104, 1.0104, 1.0104, 1.0103, 1.0103, 1.0103, 1.0103, 1.0103, 1.0102, 1.0102, 1.0102, 1.0102, 1.0102, 1.0102, 1.0102, 1.0102, 1.0102, 1.0102, 1.0102, 1.0102, 1.0101, 1.0101, 1.0101, 0.806, 0.8569, 0.8565, 0.8986, 0.7176, 0.6905, 0.6904, 0.834, 0.8336, 0.7047, 0.7035, 0.6795, 0.6792, 0.2242, -0.4445, -0.3319, -0.0391, -0.2258, 0.2735, -0.1174, 0.4554, -0.4449, 0.4159, -0.2646, -0.0897, -0.1114, -0.9031, 0.0588, 0.1181]}, \"token.table\": {\"Topic\": [2, 3, 3, 1, 2, 3, 3, 1, 2, 3, 3, 1, 1, 1, 2, 3, 1, 1, 2, 3, 2, 1, 1, 1, 3, 1, 1, 2, 1, 1, 2, 3, 1, 2, 2, 2, 3, 2, 3, 3, 1, 1, 2, 3, 2, 2, 1, 2, 3, 3, 2, 3, 3, 1, 2, 3, 2, 1, 2, 3, 1, 2, 2, 3, 1, 2, 3, 2, 1, 3, 3, 3, 3, 1, 2, 3, 1, 3, 1, 3, 2, 2, 3, 3, 2, 1, 2, 3, 2, 3, 1, 2, 3, 1, 2, 3, 3, 2, 1, 2, 3, 3, 1, 2, 3, 2, 2, 2, 3, 3, 1, 1, 2, 1, 2, 2, 3, 1, 2, 3, 3, 1, 2, 3, 3, 1, 3, 1, 1, 1, 2, 3, 2, 3, 1, 1, 3, 2, 3, 2, 1, 2, 3, 3, 1, 2, 2, 1, 3, 1, 2, 3, 1, 2, 3, 2, 3, 1, 2, 3, 1, 1, 2, 3, 1, 3, 1, 2, 1, 1, 3, 3, 2, 3, 1, 3, 1, 2, 3, 2, 2, 3, 2, 3], \"Freq\": [0.5265239115886294, 0.7836597456354879, 0.783685086311493, 0.4697022012128646, 0.4026018867538839, 0.20130094337694196, 0.5309445162531765, 0.6814555651828121, 0.1622513250435267, 0.1622513250435267, 0.7836758114148527, 0.8947883761517514, 0.8947785725316004, 0.4920628655983503, 0.24603143279917514, 0.24603143279917514, 0.9940194315815665, 0.3039711585619486, 0.3039711585619486, 0.3039711585619486, 0.7788210848471241, 0.8724633133635687, 0.7891062300960417, 0.8947591411499262, 0.5309365460283542, 0.8947581943531209, 0.9848141663853964, 0.7787979589260144, 0.8947970713000124, 0.4487028006657153, 0.29913520044381015, 0.29913520044381015, 0.8947912117676037, 0.9583292703998262, 0.7953520248544936, 0.526520454034888, 0.5309493072791001, 0.4002124671599245, 0.4002124671599245, 0.7836836873930588, 0.8946949345318993, 0.8947706525591211, 0.7788065329462699, 0.7836703353523813, 0.9584515896728508, 0.7788209797621924, 0.6996278682776711, 0.2998405149761447, 0.09994683832538158, 0.8030476151157692, 0.7788493709026522, 0.7836598132549484, 0.7836794896869599, 0.5243837395262587, 0.39328780464469404, 0.06554796744078234, 0.5264677870146638, 0.25663042990097046, 0.25663042990097046, 0.25663042990097046, 0.8255041595692397, 0.2751680531897466, 0.2687239064107176, 0.5374478128214352, 0.7725812142655112, 0.09089190756064838, 0.13633786134097256, 0.778831701977601, 0.37502609562863964, 0.37502609562863964, 0.7836727207311156, 0.7836861375133466, 0.783708120728913, 0.5180719198258407, 0.3108431518955044, 0.20722876793033623, 0.7704167350286047, 0.1926041837571512, 0.6897278302353717, 0.1724319575588429, 0.795319492096975, 0.6405777630674692, 0.3202888815337346, 0.7837027429356259, 0.7788408202339633, 0.8723742324950855, 0.7788281708063812, 0.7836859508072711, 0.5396080804803383, 0.5396080804803383, 0.1746415507748269, 0.3492831015496538, 0.5239246523244807, 0.5490000191263069, 0.18300000637543562, 0.18300000637543562, 0.7836689569059282, 0.52648374317562, 0.7128917806618297, 0.09505223742157728, 0.19010447484315457, 0.5309159604007172, 0.6109584663457847, 0.20365282211526156, 0.20365282211526156, 0.7788522292444474, 0.7787828514339993, 0.26871551889271117, 0.5374310377854223, 0.7836415859906731, 0.993873788595011, 0.9939266883970612, 0.7788210094568515, 0.8947611639653436, 0.778855584313087, 0.46118830906803543, 0.46118830906803543, 0.9069493180277356, 0.7788323452060218, 0.7836636186571787, 0.783679776078126, 0.1746572111124737, 0.3493144222249474, 0.5239716333374211, 0.7836647285110787, 0.8946518681027349, 0.5309393030497241, 0.9314469811389086, 0.931370300738078, 0.8947575345760764, 0.7787848098751455, 0.7836966599640306, 0.7788349867817163, 0.7836874962037729, 0.9939116952230856, 0.3750315174585116, 0.3750315174585116, 0.3211076991941739, 0.3211076991941739, 0.5265027239015616, 0.8947794447411206, 0.3211395217391863, 0.3211395217391863, 0.7836765681361795, 0.8723115371632946, 0.5265025250673274, 0.7788079280603195, 0.7497903471218975, 0.20448827648779022, 0.6227032542409519, 0.15567581356023796, 0.15567581356023796, 0.7488208809042152, 0.10697441155774502, 0.14976417618084303, 0.3989498709623811, 0.3989498709623811, 0.7073363610058928, 0.23577878700196425, 0.23577878700196425, 0.9939552310394619, 0.46558453013318335, 0.38798710844431944, 0.23279226506659167, 0.8947797894852573, 0.7836810470295638, 0.8948001412980038, 0.5265252897987404, 0.7891272750709297, 0.9940041929252386, 0.7836567709923904, 0.783707398144128, 0.46115994211795147, 0.46115994211795147, 0.9939207935209421, 0.7836698542764448, 0.32830176973763825, 0.43773569298351767, 0.32830176973763825, 0.7788249779586685, 0.6406125931634624, 0.3203062965817312, 0.46443368364070625, 0.46443368364070625], \"Term\": [\"(cee)\", \"(hkse:\", \"99%\", \"a\", \"a\", \"a\", \"an\", \"and\", \"and\", \"and\", \"annual\", \"application\", \"applied\", \"are\", \"are\", \"are\", \"area\", \"as\", \"as\", \"as\", \"assist\", \"authors\", \"be\", \"been\", \"believe\", \"benefits\", \"blockchain\", \"book,\", \"by\", \"can\", \"can\", \"can\", \"capabilities\", \"cee\", \"center\", \"christopher\", \"company\", \"context\", \"context\", \"countries,\", \"current\", \"database\", \"decision-making\", \"delivery\", \"economic\", \"economics\", \"education\", \"education\", \"education\", \"educators\", \"else?i\", \"enjoyable.promethean\", \"entrenched\", \"for\", \"for\", \"for\", \"goal\", \"has\", \"has\", \"has\", \"have\", \"have\", \"i\", \"i\", \"in\", \"in\", \"in\", \"influence\", \"information\", \"information\", \"information?sure,\", \"innovation.i\", \"insights\", \"is\", \"is\", \"is\", \"it\", \"it\", \"its\", \"its\", \"k-12\", \"like\", \"like\", \"limited\", \"literacy\", \"literature\", \"long-term\", \"makes\", \"me\", \"me\", \"more\", \"more\", \"more\", \"need\", \"need\", \"need\", \"needs.\", \"newport\", \"of\", \"of\", \"of\", \"of.\", \"on\", \"on\", \"on\", \"on?\", \"opened\", \"or\", \"or\", \"over\", \"overall,\", \"paper\", \"partnered\", \"passage\", \"personal\", \"please\", \"please\", \"potential\", \"professional\", \"promethean's\", \"promethean,\", \"provide\", \"provide\", \"provide\", \"providing\", \"public\", \"report\", \"research\", \"review\", \"sectors\", \"skills\", \"social-emotional\", \"specific\", \"staff\", \"still\", \"student\", \"student\", \"students\", \"students\", \"students.\", \"study\", \"summary\", \"summary\", \"survey\", \"systematic\", \"teachers\", \"teachers,\", \"technology\", \"technology\", \"that\", \"that\", \"that\", \"the\", \"the\", \"the\", \"their\", \"their\", \"they\", \"they\", \"they\", \"this\", \"to\", \"to\", \"to\", \"topic.\", \"trademarks,\", \"transactions\", \"university\", \"use\", \"various\", \"washington.\", \"websoft\", \"what\", \"what\", \"which\", \"while\", \"with\", \"with\", \"with\", \"workshops,\", \"would\", \"would\", \"you\", \"you\"]}, \"R\": 30, \"lambda.step\": 0.01, \"plot.opts\": {\"xlab\": \"PC1\", \"ylab\": \"PC2\"}, \"topic.order\": [1, 3, 2]};\n",
       "\n",
       "function LDAvis_load_lib(url, callback){\n",
       "  var s = document.createElement('script');\n",
       "  s.src = url;\n",
       "  s.async = true;\n",
       "  s.onreadystatechange = s.onload = callback;\n",
       "  s.onerror = function(){console.warn(\"failed to load library \" + url);};\n",
       "  document.getElementsByTagName(\"head\")[0].appendChild(s);\n",
       "}\n",
       "\n",
       "if(typeof(LDAvis) !== \"undefined\"){\n",
       "   // already loaded: just create the visualization\n",
       "   !function(LDAvis){\n",
       "       new LDAvis(\"#\" + \"ldavis_el1752415408245813927575583434\", ldavis_el1752415408245813927575583434_data);\n",
       "   }(LDAvis);\n",
       "}else if(typeof define === \"function\" && define.amd){\n",
       "   // require.js is available: use it to load d3/LDAvis\n",
       "   require.config({paths: {d3: \"https://d3js.org/d3.v5\"}});\n",
       "   require([\"d3\"], function(d3){\n",
       "      window.d3 = d3;\n",
       "      LDAvis_load_lib(\"https://cdn.jsdelivr.net/gh/bmabey/pyLDAvis@3.4.0/pyLDAvis/js/ldavis.v3.0.0.js\", function(){\n",
       "        new LDAvis(\"#\" + \"ldavis_el1752415408245813927575583434\", ldavis_el1752415408245813927575583434_data);\n",
       "      });\n",
       "    });\n",
       "}else{\n",
       "    // require.js not available: dynamically load d3 & LDAvis\n",
       "    LDAvis_load_lib(\"https://d3js.org/d3.v5.js\", function(){\n",
       "         LDAvis_load_lib(\"https://cdn.jsdelivr.net/gh/bmabey/pyLDAvis@3.4.0/pyLDAvis/js/ldavis.v3.0.0.js\", function(){\n",
       "                 new LDAvis(\"#\" + \"ldavis_el1752415408245813927575583434\", ldavis_el1752415408245813927575583434_data);\n",
       "            })\n",
       "         });\n",
       "}\n",
       "</script>"
      ],
      "text/plain": [
       "<IPython.core.display.HTML object>"
      ]
     },
     "execution_count": 49,
     "metadata": {},
     "output_type": "execute_result"
    }
   ],
   "source": [
    "# 輸出主題模型分析結果\n",
    "import pyLDAvis.gensim\n",
    "pyLDAvis.enable_notebook()\n",
    "vis = pyLDAvis.gensim.prepare(lda_model, corpus, dictionary)\n",
    "pyLDAvis.display(vis)"
   ]
  },
  {
   "cell_type": "code",
   "execution_count": null,
   "id": "7af53120",
   "metadata": {},
   "outputs": [],
   "source": []
  }
 ],
 "metadata": {
  "kernelspec": {
   "display_name": "Python 3 (ipykernel)",
   "language": "python",
   "name": "python3"
  },
  "language_info": {
   "codemirror_mode": {
    "name": "ipython",
    "version": 3
   },
   "file_extension": ".py",
   "mimetype": "text/x-python",
   "name": "python",
   "nbconvert_exporter": "python",
   "pygments_lexer": "ipython3",
   "version": "3.9.13"
  }
 },
 "nbformat": 4,
 "nbformat_minor": 5
}
